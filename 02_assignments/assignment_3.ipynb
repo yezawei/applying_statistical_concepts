{
  "cells": [
    {
      "cell_type": "markdown",
      "id": "7b0bcac6-5086-4f4e-928a-570a9ff7ae58",
      "metadata": {
        "id": "7b0bcac6-5086-4f4e-928a-570a9ff7ae58"
      },
      "source": [
        "# Assignment 3"
      ]
    },
    {
      "cell_type": "markdown",
      "id": "5fce0350-2a17-4e93-8d4c-0b8748fdfc32",
      "metadata": {
        "id": "5fce0350-2a17-4e93-8d4c-0b8748fdfc32"
      },
      "source": [
        "As before, if a question can be answered with 'yes/no', or a numeric value, you may simply state as much. If you incorporate code from the internet (which is not required and generally not advisable), please cite the source within your code (providing a URL is sufficient).\n",
        "\n",
        "We will go through comparable code and concepts in the live learning session. If you run into trouble, start by using the help `help()` function in Python, to get information about the datasets and function in question. The internet is also a great resource when coding (though note that no outside searches are required by the assignment!). If you do incorporate code from the internet, please cite the source within your code (providing a URL is sufficient).\n",
        "\n",
        "Please bring questions that you cannot work out on your own to office hours, work periods or share with your peers on Slack. We will work with you through the issue."
      ]
    },
    {
      "cell_type": "code",
      "execution_count": 1,
      "id": "b92f7c91",
      "metadata": {
        "id": "b92f7c91"
      },
      "outputs": [],
      "source": [
        "import numpy as np\n",
        "import pandas as pd\n",
        "import matplotlib.pyplot as plt\n",
        "import statsmodels.api as sm"
      ]
    },
    {
      "cell_type": "markdown",
      "id": "d7fff1dd-e4ce-4a60-96a0-d08136e9bf5e",
      "metadata": {
        "id": "d7fff1dd-e4ce-4a60-96a0-d08136e9bf5e"
      },
      "source": [
        "### Question 1: Resampling via Bootstrapping\n",
        "\n",
        "Now, we'll use the `iris` dataset, which we will add to Python using the `statsmodels` library. As always, start by reviewing a description of the dataset, by printing the dataset."
      ]
    },
    {
      "cell_type": "code",
      "execution_count": 2,
      "id": "47f4dcf5-0d4c-41ea-892d-d9f2c1aa1859",
      "metadata": {
        "id": "47f4dcf5-0d4c-41ea-892d-d9f2c1aa1859"
      },
      "outputs": [],
      "source": [
        "# Import\n",
        "iris = sm.datasets.get_rdataset('iris', 'datasets')\n",
        "df = pd.DataFrame(iris.data)"
      ]
    },
    {
      "cell_type": "markdown",
      "id": "7717a32c",
      "metadata": {
        "id": "7717a32c"
      },
      "source": [
        "_(i)_ Create an `alpha_func(D, idx)` function which takes the `Sepal`'s `width` and `length` to calculate for alpha"
      ]
    },
    {
      "cell_type": "code",
      "execution_count": 8,
      "id": "f3da5483",
      "metadata": {
        "colab": {
          "base_uri": "https://localhost:8080/",
          "height": 206
        },
        "id": "f3da5483",
        "outputId": "0ba809f5-32e4-4d69-b237-9352a6ea1a25"
      },
      "outputs": [
        {
          "output_type": "execute_result",
          "data": {
            "text/plain": [
              "   Sepal.Length  Sepal.Width  Petal.Length  Petal.Width Species\n",
              "0           5.1          3.5           1.4          0.2  setosa\n",
              "1           4.9          3.0           1.4          0.2  setosa\n",
              "2           4.7          3.2           1.3          0.2  setosa\n",
              "3           4.6          3.1           1.5          0.2  setosa\n",
              "4           5.0          3.6           1.4          0.2  setosa"
            ],
            "text/html": [
              "\n",
              "  <div id=\"df-224bcee3-462b-48e3-8151-6c9bd58eb377\" class=\"colab-df-container\">\n",
              "    <div>\n",
              "<style scoped>\n",
              "    .dataframe tbody tr th:only-of-type {\n",
              "        vertical-align: middle;\n",
              "    }\n",
              "\n",
              "    .dataframe tbody tr th {\n",
              "        vertical-align: top;\n",
              "    }\n",
              "\n",
              "    .dataframe thead th {\n",
              "        text-align: right;\n",
              "    }\n",
              "</style>\n",
              "<table border=\"1\" class=\"dataframe\">\n",
              "  <thead>\n",
              "    <tr style=\"text-align: right;\">\n",
              "      <th></th>\n",
              "      <th>Sepal.Length</th>\n",
              "      <th>Sepal.Width</th>\n",
              "      <th>Petal.Length</th>\n",
              "      <th>Petal.Width</th>\n",
              "      <th>Species</th>\n",
              "    </tr>\n",
              "  </thead>\n",
              "  <tbody>\n",
              "    <tr>\n",
              "      <th>0</th>\n",
              "      <td>5.1</td>\n",
              "      <td>3.5</td>\n",
              "      <td>1.4</td>\n",
              "      <td>0.2</td>\n",
              "      <td>setosa</td>\n",
              "    </tr>\n",
              "    <tr>\n",
              "      <th>1</th>\n",
              "      <td>4.9</td>\n",
              "      <td>3.0</td>\n",
              "      <td>1.4</td>\n",
              "      <td>0.2</td>\n",
              "      <td>setosa</td>\n",
              "    </tr>\n",
              "    <tr>\n",
              "      <th>2</th>\n",
              "      <td>4.7</td>\n",
              "      <td>3.2</td>\n",
              "      <td>1.3</td>\n",
              "      <td>0.2</td>\n",
              "      <td>setosa</td>\n",
              "    </tr>\n",
              "    <tr>\n",
              "      <th>3</th>\n",
              "      <td>4.6</td>\n",
              "      <td>3.1</td>\n",
              "      <td>1.5</td>\n",
              "      <td>0.2</td>\n",
              "      <td>setosa</td>\n",
              "    </tr>\n",
              "    <tr>\n",
              "      <th>4</th>\n",
              "      <td>5.0</td>\n",
              "      <td>3.6</td>\n",
              "      <td>1.4</td>\n",
              "      <td>0.2</td>\n",
              "      <td>setosa</td>\n",
              "    </tr>\n",
              "  </tbody>\n",
              "</table>\n",
              "</div>\n",
              "    <div class=\"colab-df-buttons\">\n",
              "\n",
              "  <div class=\"colab-df-container\">\n",
              "    <button class=\"colab-df-convert\" onclick=\"convertToInteractive('df-224bcee3-462b-48e3-8151-6c9bd58eb377')\"\n",
              "            title=\"Convert this dataframe to an interactive table.\"\n",
              "            style=\"display:none;\">\n",
              "\n",
              "  <svg xmlns=\"http://www.w3.org/2000/svg\" height=\"24px\" viewBox=\"0 -960 960 960\">\n",
              "    <path d=\"M120-120v-720h720v720H120Zm60-500h600v-160H180v160Zm220 220h160v-160H400v160Zm0 220h160v-160H400v160ZM180-400h160v-160H180v160Zm440 0h160v-160H620v160ZM180-180h160v-160H180v160Zm440 0h160v-160H620v160Z\"/>\n",
              "  </svg>\n",
              "    </button>\n",
              "\n",
              "  <style>\n",
              "    .colab-df-container {\n",
              "      display:flex;\n",
              "      gap: 12px;\n",
              "    }\n",
              "\n",
              "    .colab-df-convert {\n",
              "      background-color: #E8F0FE;\n",
              "      border: none;\n",
              "      border-radius: 50%;\n",
              "      cursor: pointer;\n",
              "      display: none;\n",
              "      fill: #1967D2;\n",
              "      height: 32px;\n",
              "      padding: 0 0 0 0;\n",
              "      width: 32px;\n",
              "    }\n",
              "\n",
              "    .colab-df-convert:hover {\n",
              "      background-color: #E2EBFA;\n",
              "      box-shadow: 0px 1px 2px rgba(60, 64, 67, 0.3), 0px 1px 3px 1px rgba(60, 64, 67, 0.15);\n",
              "      fill: #174EA6;\n",
              "    }\n",
              "\n",
              "    .colab-df-buttons div {\n",
              "      margin-bottom: 4px;\n",
              "    }\n",
              "\n",
              "    [theme=dark] .colab-df-convert {\n",
              "      background-color: #3B4455;\n",
              "      fill: #D2E3FC;\n",
              "    }\n",
              "\n",
              "    [theme=dark] .colab-df-convert:hover {\n",
              "      background-color: #434B5C;\n",
              "      box-shadow: 0px 1px 3px 1px rgba(0, 0, 0, 0.15);\n",
              "      filter: drop-shadow(0px 1px 2px rgba(0, 0, 0, 0.3));\n",
              "      fill: #FFFFFF;\n",
              "    }\n",
              "  </style>\n",
              "\n",
              "    <script>\n",
              "      const buttonEl =\n",
              "        document.querySelector('#df-224bcee3-462b-48e3-8151-6c9bd58eb377 button.colab-df-convert');\n",
              "      buttonEl.style.display =\n",
              "        google.colab.kernel.accessAllowed ? 'block' : 'none';\n",
              "\n",
              "      async function convertToInteractive(key) {\n",
              "        const element = document.querySelector('#df-224bcee3-462b-48e3-8151-6c9bd58eb377');\n",
              "        const dataTable =\n",
              "          await google.colab.kernel.invokeFunction('convertToInteractive',\n",
              "                                                    [key], {});\n",
              "        if (!dataTable) return;\n",
              "\n",
              "        const docLinkHtml = 'Like what you see? Visit the ' +\n",
              "          '<a target=\"_blank\" href=https://colab.research.google.com/notebooks/data_table.ipynb>data table notebook</a>'\n",
              "          + ' to learn more about interactive tables.';\n",
              "        element.innerHTML = '';\n",
              "        dataTable['output_type'] = 'display_data';\n",
              "        await google.colab.output.renderOutput(dataTable, element);\n",
              "        const docLink = document.createElement('div');\n",
              "        docLink.innerHTML = docLinkHtml;\n",
              "        element.appendChild(docLink);\n",
              "      }\n",
              "    </script>\n",
              "  </div>\n",
              "\n",
              "\n",
              "<div id=\"df-721cb9ee-f7d6-4c3a-b6a0-af914738b5e5\">\n",
              "  <button class=\"colab-df-quickchart\" onclick=\"quickchart('df-721cb9ee-f7d6-4c3a-b6a0-af914738b5e5')\"\n",
              "            title=\"Suggest charts\"\n",
              "            style=\"display:none;\">\n",
              "\n",
              "<svg xmlns=\"http://www.w3.org/2000/svg\" height=\"24px\"viewBox=\"0 0 24 24\"\n",
              "     width=\"24px\">\n",
              "    <g>\n",
              "        <path d=\"M19 3H5c-1.1 0-2 .9-2 2v14c0 1.1.9 2 2 2h14c1.1 0 2-.9 2-2V5c0-1.1-.9-2-2-2zM9 17H7v-7h2v7zm4 0h-2V7h2v10zm4 0h-2v-4h2v4z\"/>\n",
              "    </g>\n",
              "</svg>\n",
              "  </button>\n",
              "\n",
              "<style>\n",
              "  .colab-df-quickchart {\n",
              "      --bg-color: #E8F0FE;\n",
              "      --fill-color: #1967D2;\n",
              "      --hover-bg-color: #E2EBFA;\n",
              "      --hover-fill-color: #174EA6;\n",
              "      --disabled-fill-color: #AAA;\n",
              "      --disabled-bg-color: #DDD;\n",
              "  }\n",
              "\n",
              "  [theme=dark] .colab-df-quickchart {\n",
              "      --bg-color: #3B4455;\n",
              "      --fill-color: #D2E3FC;\n",
              "      --hover-bg-color: #434B5C;\n",
              "      --hover-fill-color: #FFFFFF;\n",
              "      --disabled-bg-color: #3B4455;\n",
              "      --disabled-fill-color: #666;\n",
              "  }\n",
              "\n",
              "  .colab-df-quickchart {\n",
              "    background-color: var(--bg-color);\n",
              "    border: none;\n",
              "    border-radius: 50%;\n",
              "    cursor: pointer;\n",
              "    display: none;\n",
              "    fill: var(--fill-color);\n",
              "    height: 32px;\n",
              "    padding: 0;\n",
              "    width: 32px;\n",
              "  }\n",
              "\n",
              "  .colab-df-quickchart:hover {\n",
              "    background-color: var(--hover-bg-color);\n",
              "    box-shadow: 0 1px 2px rgba(60, 64, 67, 0.3), 0 1px 3px 1px rgba(60, 64, 67, 0.15);\n",
              "    fill: var(--button-hover-fill-color);\n",
              "  }\n",
              "\n",
              "  .colab-df-quickchart-complete:disabled,\n",
              "  .colab-df-quickchart-complete:disabled:hover {\n",
              "    background-color: var(--disabled-bg-color);\n",
              "    fill: var(--disabled-fill-color);\n",
              "    box-shadow: none;\n",
              "  }\n",
              "\n",
              "  .colab-df-spinner {\n",
              "    border: 2px solid var(--fill-color);\n",
              "    border-color: transparent;\n",
              "    border-bottom-color: var(--fill-color);\n",
              "    animation:\n",
              "      spin 1s steps(1) infinite;\n",
              "  }\n",
              "\n",
              "  @keyframes spin {\n",
              "    0% {\n",
              "      border-color: transparent;\n",
              "      border-bottom-color: var(--fill-color);\n",
              "      border-left-color: var(--fill-color);\n",
              "    }\n",
              "    20% {\n",
              "      border-color: transparent;\n",
              "      border-left-color: var(--fill-color);\n",
              "      border-top-color: var(--fill-color);\n",
              "    }\n",
              "    30% {\n",
              "      border-color: transparent;\n",
              "      border-left-color: var(--fill-color);\n",
              "      border-top-color: var(--fill-color);\n",
              "      border-right-color: var(--fill-color);\n",
              "    }\n",
              "    40% {\n",
              "      border-color: transparent;\n",
              "      border-right-color: var(--fill-color);\n",
              "      border-top-color: var(--fill-color);\n",
              "    }\n",
              "    60% {\n",
              "      border-color: transparent;\n",
              "      border-right-color: var(--fill-color);\n",
              "    }\n",
              "    80% {\n",
              "      border-color: transparent;\n",
              "      border-right-color: var(--fill-color);\n",
              "      border-bottom-color: var(--fill-color);\n",
              "    }\n",
              "    90% {\n",
              "      border-color: transparent;\n",
              "      border-bottom-color: var(--fill-color);\n",
              "    }\n",
              "  }\n",
              "</style>\n",
              "\n",
              "  <script>\n",
              "    async function quickchart(key) {\n",
              "      const quickchartButtonEl =\n",
              "        document.querySelector('#' + key + ' button');\n",
              "      quickchartButtonEl.disabled = true;  // To prevent multiple clicks.\n",
              "      quickchartButtonEl.classList.add('colab-df-spinner');\n",
              "      try {\n",
              "        const charts = await google.colab.kernel.invokeFunction(\n",
              "            'suggestCharts', [key], {});\n",
              "      } catch (error) {\n",
              "        console.error('Error during call to suggestCharts:', error);\n",
              "      }\n",
              "      quickchartButtonEl.classList.remove('colab-df-spinner');\n",
              "      quickchartButtonEl.classList.add('colab-df-quickchart-complete');\n",
              "    }\n",
              "    (() => {\n",
              "      let quickchartButtonEl =\n",
              "        document.querySelector('#df-721cb9ee-f7d6-4c3a-b6a0-af914738b5e5 button');\n",
              "      quickchartButtonEl.style.display =\n",
              "        google.colab.kernel.accessAllowed ? 'block' : 'none';\n",
              "    })();\n",
              "  </script>\n",
              "</div>\n",
              "\n",
              "    </div>\n",
              "  </div>\n"
            ],
            "application/vnd.google.colaboratory.intrinsic+json": {
              "type": "dataframe",
              "variable_name": "df",
              "summary": "{\n  \"name\": \"df\",\n  \"rows\": 150,\n  \"fields\": [\n    {\n      \"column\": \"Sepal.Length\",\n      \"properties\": {\n        \"dtype\": \"number\",\n        \"std\": 0.828066127977863,\n        \"min\": 4.3,\n        \"max\": 7.9,\n        \"num_unique_values\": 35,\n        \"samples\": [\n          6.2,\n          4.5,\n          5.6\n        ],\n        \"semantic_type\": \"\",\n        \"description\": \"\"\n      }\n    },\n    {\n      \"column\": \"Sepal.Width\",\n      \"properties\": {\n        \"dtype\": \"number\",\n        \"std\": 0.4358662849366982,\n        \"min\": 2.0,\n        \"max\": 4.4,\n        \"num_unique_values\": 23,\n        \"samples\": [\n          2.3,\n          4.0,\n          3.5\n        ],\n        \"semantic_type\": \"\",\n        \"description\": \"\"\n      }\n    },\n    {\n      \"column\": \"Petal.Length\",\n      \"properties\": {\n        \"dtype\": \"number\",\n        \"std\": 1.7652982332594662,\n        \"min\": 1.0,\n        \"max\": 6.9,\n        \"num_unique_values\": 43,\n        \"samples\": [\n          6.7,\n          3.8,\n          3.7\n        ],\n        \"semantic_type\": \"\",\n        \"description\": \"\"\n      }\n    },\n    {\n      \"column\": \"Petal.Width\",\n      \"properties\": {\n        \"dtype\": \"number\",\n        \"std\": 0.7622376689603465,\n        \"min\": 0.1,\n        \"max\": 2.5,\n        \"num_unique_values\": 22,\n        \"samples\": [\n          0.2,\n          1.2,\n          1.3\n        ],\n        \"semantic_type\": \"\",\n        \"description\": \"\"\n      }\n    },\n    {\n      \"column\": \"Species\",\n      \"properties\": {\n        \"dtype\": \"category\",\n        \"num_unique_values\": 3,\n        \"samples\": [\n          \"setosa\",\n          \"versicolor\",\n          \"virginica\"\n        ],\n        \"semantic_type\": \"\",\n        \"description\": \"\"\n      }\n    }\n  ]\n}"
            }
          },
          "metadata": {},
          "execution_count": 8
        }
      ],
      "source": [
        "# Your code here\n",
        "df.head()"
      ]
    },
    {
      "cell_type": "code",
      "source": [
        "def alpha_func(D, idx):\n",
        "  X = D.loc[idx, 'Sepal.Width']\n",
        "  Y = D.loc[idx, 'Sepal.Length']\n",
        "  cov_matrix = np.cov(X, Y, rowvar = False)\n",
        "  alpha = (cov_matrix[1, 1] - cov_matrix[0, 1])/(cov_matrix[0, 0] + cov_matrix[1, 1] - 2 * cov_matrix[0, 1])\n",
        "  return alpha"
      ],
      "metadata": {
        "id": "8NSGVkUseXKe"
      },
      "id": "8NSGVkUseXKe",
      "execution_count": 9,
      "outputs": []
    },
    {
      "cell_type": "markdown",
      "id": "ff94d66b",
      "metadata": {
        "id": "ff94d66b"
      },
      "source": [
        "Test the code below"
      ]
    },
    {
      "cell_type": "code",
      "execution_count": 7,
      "id": "eda715cd",
      "metadata": {
        "colab": {
          "base_uri": "https://localhost:8080/"
        },
        "id": "eda715cd",
        "outputId": "18c7b342-d180-4e84-a579-56985ce45ff4"
      },
      "outputs": [
        {
          "output_type": "execute_result",
          "data": {
            "text/plain": [
              "0.6189498510165619"
            ]
          },
          "metadata": {},
          "execution_count": 7
        }
      ],
      "source": [
        "alpha_func(df, range(100))"
      ]
    },
    {
      "cell_type": "markdown",
      "id": "f338b14e",
      "metadata": {
        "id": "f338b14e"
      },
      "source": [
        "_(ii)_ Construct a new bootstrap data set and recompute alpha"
      ]
    },
    {
      "cell_type": "code",
      "execution_count": 10,
      "id": "34ee835f",
      "metadata": {
        "colab": {
          "base_uri": "https://localhost:8080/"
        },
        "id": "34ee835f",
        "outputId": "79a658c1-11c2-4098-9bdc-1337b73e369a"
      },
      "outputs": [
        {
          "output_type": "execute_result",
          "data": {
            "text/plain": [
              "0.6675354865158225"
            ]
          },
          "metadata": {},
          "execution_count": 10
        }
      ],
      "source": [
        "rng = np.random.default_rng(0)\n",
        "alpha_func(df,\n",
        "           rng.choice(100,\n",
        "                      100,\n",
        "                      replace=True))"
      ]
    },
    {
      "cell_type": "markdown",
      "id": "056080ff-7aec-41aa-bb61-763b390e4cf2",
      "metadata": {
        "id": "056080ff-7aec-41aa-bb61-763b390e4cf2"
      },
      "source": [
        "Imagine we are analysts working for a shipping company. The company wants to know the average length of iris' petals, to inform space allotment on an upcoming shipment. The relevant variable in the dataset is `Sepal.Length`.\n",
        "\n",
        "_(iii)_ Why is it (perhaps) not sufficient to simply calculate the mean of `Sepal.Length`? What more information will preforming a bootstrap provide to us?  \n",
        "\n",
        "A: Sepal.Lenghth is providing point estimate calculating a mean. While Bootstrap also provides information regarding variability and reliability of the mean estiamte.\n",
        "\n",
        "_(iv)_ We can perform bootstrapping in Python by defining a simple function using `boot_SE()` for computing the bootstrap standard error. Remember, because bootstrapping involves randomness, we must first set a seed for reproducibility!"
      ]
    },
    {
      "cell_type": "code",
      "execution_count": 11,
      "id": "77540f76-7747-4dba-8e77-e1ded54af536",
      "metadata": {
        "id": "77540f76-7747-4dba-8e77-e1ded54af536"
      },
      "outputs": [],
      "source": [
        "# Add your code here to set the seed\n",
        "def boot_SE(func,\n",
        "            D,\n",
        "            n=None,\n",
        "            B=1000,\n",
        "            seed=0):\n",
        "    warnings.filterwarnings(action='ignore', category=FutureWarning, module='ISLP.models.columns', lineno=151)\n",
        "\n",
        "    rng = np.random.default_rng(seed)\n",
        "    first_, second_ = 0, 0\n",
        "    n = n or D.shape[0]\n",
        "    for _ in range(B):\n",
        "        idx = rng.choice(D.index,\n",
        "                         n,\n",
        "                         replace=True)\n",
        "        value = func(D, idx)\n",
        "        first_ += value\n",
        "        second_ += value**2\n",
        "    return np.sqrt(second_ / B - (first_ / B)**2)"
      ]
    },
    {
      "cell_type": "markdown",
      "id": "8a543472",
      "metadata": {
        "id": "8a543472"
      },
      "source": [
        "_(v)_ Evaluate the accuracy of our alpha estimate with B = 1000"
      ]
    },
    {
      "cell_type": "code",
      "execution_count": 14,
      "id": "9ed41c4e",
      "metadata": {
        "colab": {
          "base_uri": "https://localhost:8080/"
        },
        "id": "9ed41c4e",
        "outputId": "6db84b25-0fc0-453b-a52b-a32ec851a239"
      },
      "outputs": [
        {
          "output_type": "execute_result",
          "data": {
            "text/plain": [
              "0.031805100768605266"
            ]
          },
          "metadata": {},
          "execution_count": 14
        }
      ],
      "source": [
        "# Your code here\n",
        "import warnings\n",
        "\n",
        "alpha_SE = boot_SE(alpha_func,\n",
        "                   df,\n",
        "                   B=1000,\n",
        "                   seed = 0)\n",
        "alpha_SE"
      ]
    },
    {
      "cell_type": "markdown",
      "id": "2e5e0c7f",
      "metadata": {
        "id": "2e5e0c7f"
      },
      "source": [
        "_(vi)_ What is the original mean value of `Sepal.Length`?"
      ]
    },
    {
      "cell_type": "code",
      "execution_count": 15,
      "id": "7c9d5004",
      "metadata": {
        "colab": {
          "base_uri": "https://localhost:8080/"
        },
        "id": "7c9d5004",
        "outputId": "289a9516-e0af-4d61-8709-b60ca371a6a9"
      },
      "outputs": [
        {
          "output_type": "execute_result",
          "data": {
            "text/plain": [
              "5.843333333333334"
            ]
          },
          "metadata": {},
          "execution_count": 15
        }
      ],
      "source": [
        "# Your code here\n",
        "\n",
        "df['Sepal.Length'].mean()"
      ]
    },
    {
      "cell_type": "markdown",
      "id": "785fe758-f395-40b6-a9a3-28ec2efeba29",
      "metadata": {
        "id": "785fe758-f395-40b6-a9a3-28ec2efeba29"
      },
      "source": [
        "Next, let's create a new bootstrapping to bootstrap samples (`boot_se_samples`) of `Sepal.Length`, in order to compute its bootstrapped mean and standard deviation.\n",
        "\n",
        "_(vii)_. Write code to review the bootstrapped mean value, and the standard deviation of the bootstrapped samples. Compare the mean against its original value. Then, review the bootstrapped range, by using `t_range = np.ptp(boot_se_samples)`."
      ]
    },
    {
      "cell_type": "code",
      "execution_count": 23,
      "id": "7686243c",
      "metadata": {
        "colab": {
          "base_uri": "https://localhost:8080/"
        },
        "id": "7686243c",
        "outputId": "e6d65127-0ceb-4773-f482-9a2a08b0aff0"
      },
      "outputs": [
        {
          "output_type": "stream",
          "name": "stdout",
          "text": [
            "Original Mean of Sepal.Length: 5.843333333333334\n",
            "Bootstrap Mean of Sepal.Length: 5.842284666666666\n",
            "Bootstrap Standard Deviation of Sepal.Length: 0.06649295592099295\n",
            "Range of Bootstrap Samples: 0.3873333333333342\n"
          ]
        }
      ],
      "source": [
        "# Add your code here\n",
        "\n",
        "np.random.seed(0)\n",
        "\n",
        "def mean_sepal_length(D, idx):\n",
        "    return D.loc[idx, 'Sepal.Length'].mean()\n",
        "\n",
        "def boot_se_samples(func, D, n=None, B=1000, seed=0):\n",
        "    warnings.filterwarnings(action='ignore', category=FutureWarning, module='ISLP.models.columns', lineno=151)\n",
        "\n",
        "    rng = np.random.default_rng(seed)\n",
        "    n = n or D.shape[0]\n",
        "    samples = []\n",
        "    for _ in range(B):\n",
        "        idx = rng.choice(D.index, n, replace=True)\n",
        "        value = func(D, idx)\n",
        "        samples.append(value)\n",
        "    return np.array(samples)\n",
        "\n",
        "bootstrap_samples = boot_se_samples(mean_sepal_length, df, B=1000, seed=0)\n",
        "bootstrap_mean = np.mean(bootstrap_samples)\n",
        "bootstrap_std = np.std(bootstrap_samples)\n",
        "\n",
        "original_mean_sepal_length = df['Sepal.Length'].mean()\n",
        "\n",
        "print(f\"Original Mean of Sepal.Length: {original_mean_sepal_length}\")\n",
        "print(f\"Bootstrap Mean of Sepal.Length: {bootstrap_mean}\")\n",
        "print(f\"Bootstrap Standard Deviation of Sepal.Length: {bootstrap_std}\")\n",
        "\n",
        "t_range = np.ptp(bootstrap_samples)\n",
        "print(f\"Range of Bootstrap Samples: {t_range}\")\n"
      ]
    },
    {
      "cell_type": "markdown",
      "id": "66c6c663-f3bb-4a15-8896-6dccfb7259fd",
      "metadata": {
        "id": "66c6c663-f3bb-4a15-8896-6dccfb7259fd"
      },
      "source": [
        "_(viii)_ Next, let's compute 95% confidence intervals, for the mean value of iris sepal length. (Hint: use the `np.percentile` function)"
      ]
    },
    {
      "cell_type": "code",
      "execution_count": 24,
      "id": "74de4a76-e500-4c93-82a9-e7365cc86c91",
      "metadata": {
        "colab": {
          "base_uri": "https://localhost:8080/"
        },
        "id": "74de4a76-e500-4c93-82a9-e7365cc86c91",
        "outputId": "a2f34e96-8345-46d8-badb-d9b43436128f"
      },
      "outputs": [
        {
          "output_type": "stream",
          "name": "stdout",
          "text": [
            "Original Mean of Sepal.Length: 5.843333333333334\n",
            "95% Confidence Interval for the Mean of Sepal.Length: [5.718616666666667, 5.974716666666667]\n"
          ]
        }
      ],
      "source": [
        "# Add your code here\n",
        "lower_bound = np.percentile(bootstrap_samples, 2.5)\n",
        "upper_bound = np.percentile(bootstrap_samples, 97.5)\n",
        "\n",
        "original_mean_sepal_length = df['Sepal.Length'].mean()\n",
        "\n",
        "print(f\"Original Mean of Sepal.Length: {original_mean_sepal_length}\")\n",
        "print(f\"95% Confidence Interval for the Mean of Sepal.Length: [{lower_bound}, {upper_bound}]\")"
      ]
    },
    {
      "cell_type": "markdown",
      "id": "488e54f7-ebe4-4740-835c-9832320005d0",
      "metadata": {
        "id": "488e54f7-ebe4-4740-835c-9832320005d0"
      },
      "source": [
        "_(ix)_. Use the plot function to create an histogram of the bootstrapped samples. What does this histogram show ?"
      ]
    },
    {
      "cell_type": "code",
      "execution_count": 25,
      "id": "4fca4e3f",
      "metadata": {
        "colab": {
          "base_uri": "https://localhost:8080/",
          "height": 472
        },
        "id": "4fca4e3f",
        "outputId": "c42b8167-a746-41d8-9830-f2b7da0e559b"
      },
      "outputs": [
        {
          "output_type": "display_data",
          "data": {
            "text/plain": [
              "<Figure size 640x480 with 1 Axes>"
            ],
            "image/png": "[encoded data removed]"
          },
          "metadata": {}
        }
      ],
      "source": [
        "#Complete this\n",
        "\n",
        "# Create a figure and axis\n",
        "fig, ax = plt.subplots()\n",
        "\n",
        "# Create the histogram\n",
        "#Add your code here\n",
        "ax.hist(bootstrap_samples, bins = 30, edgecolor = 'black')\n",
        "\n",
        "# Add a title\n",
        "#Add your code herea\n",
        "ax.set_title('Bootstrapped Samples of Sepal.Length')\n",
        "\n",
        "# Add a label to the x-axis\n",
        "#Add your code here\n",
        "\n",
        "ax.set_xlabel('Bootstrapped Means of Sepal.Length')\n",
        "\n",
        "# Add a label to the y-axis\n",
        "#Add your code here\n",
        "ax.set_ylabel('Frequency')\n",
        "\n",
        "\n",
        "# Show the plot\n",
        "plt.show()"
      ]
    },
    {
      "cell_type": "markdown",
      "id": "bfa9a095-9c7a-4ab5-aa99-b11bf419fae0",
      "metadata": {
        "id": "bfa9a095-9c7a-4ab5-aa99-b11bf419fae0"
      },
      "source": [
        "_(x)_ Given your bootstrapped analysis, what do you recommend to shipping company?"
      ]
    },
    {
      "cell_type": "markdown",
      "source": [
        "- The original mean of Sepal.Length is approximately 5.8433. The bootstrap mean is very close to this value, indicating that sampling process is accurate and reliable.\n",
        "- Make sure to consider interval range is considered in planning.\n",
        "- Plan for upper bound interval range."
      ],
      "metadata": {
        "id": "VqHckmxCq4z_"
      },
      "id": "VqHckmxCq4z_"
    },
    {
      "cell_type": "code",
      "execution_count": 26,
      "id": "5e83202e-4aab-44bb-8586-5d0e82e9e201",
      "metadata": {
        "id": "5e83202e-4aab-44bb-8586-5d0e82e9e201"
      },
      "outputs": [],
      "source": [
        "# Write your answer her"
      ]
    },
    {
      "cell_type": "markdown",
      "id": "466943e8",
      "metadata": {
        "id": "466943e8"
      },
      "source": [
        "# Criteria\n",
        "\n",
        "|Criteria            |Complete           |Incomplete          |\n",
        "|--------------------|---------------|--------------|\n",
        "|Bootstrapping|All steps are done correctly and the answers are correct.|At least one step is done incorrectly leading to a wrong answer.|"
      ]
    },
    {
      "cell_type": "markdown",
      "id": "68b8a226",
      "metadata": {
        "id": "68b8a226"
      },
      "source": [
        "## Submission Information\n",
        "\n",
        "🚨 **Please review our [Assignment Submission Guide](https://github.com/UofT-DSI/onboarding/blob/main/onboarding_documents/submissions.md)** 🚨 for detailed instructions on how to format, branch, and submit your work. Following these guidelines is crucial for your submissions to be evaluated correctly.\n",
        "\n",
        "### Note:\n",
        "\n",
        "If you like, you may collaborate with others in the cohort. If you choose to do so, please indicate with whom you have worked with in your pull request by tagging their GitHub username. Separate submissions are required.\n",
        "\n",
        "\n",
        "### Submission Parameters:\n",
        "* Submission Due Date: `HH:MM AM/PM - DD/MM/YYYY`\n",
        "* The branch name for your repo should be: `assignment-3`\n",
        "* What to submit for this assignment:\n",
        "    * This Jupyter Notebook (assignment_3.ipynb) should be populated and should be the only change in your pull request.\n",
        "* What the pull request link should look like for this assignment: `https://github.com/<your_github_username>/applying_statistical_concepts/pull/<pr_id>`\n",
        "    * Open a private window in your browser. Copy and paste the link to your pull request into the address bar. Make sure you can see your pull request properly. This helps the technical facilitator and learning support staff review your submission easily.\n",
        "\n",
        "Checklist:\n",
        "- [ ] Created a branch with the correct naming convention.\n",
        "- [ ] Ensured that the repository is public.\n",
        "- [ ] Reviewed the PR description guidelines and adhered to them.\n",
        "- [ ] Verify that the link is accessible in a private browser window.\n",
        "\n",
        "If you encounter any difficulties or have questions, please don't hesitate to reach out to our team via our Slack at `#cohort-3-help`. Our Technical Facilitators and Learning Support staff are here to help you navigate any challenges.\n"
      ]
    }
  ],
  "metadata": {
    "kernelspec": {
      "display_name": "Python 3.10.4",
      "language": "python",
      "name": "python3"
    },
    "language_info": {
      "codemirror_mode": {
        "name": "ipython",
        "version": 3
      },
      "file_extension": ".py",
      "mimetype": "text/x-python",
      "name": "python",
      "nbconvert_exporter": "python",
      "pygments_lexer": "ipython3",
      "version": "3.11.7"
    },
    "vscode": {
      "interpreter": {
        "hash": "497a84dc8fec8cf8d24e7e87b6d954c9a18a327edc66feb9b9ea7e9e72cc5c7e"
      }
    },
    "colab": {
      "provenance": []
    }
  },
  "nbformat": 4,
  "nbformat_minor": 5
}